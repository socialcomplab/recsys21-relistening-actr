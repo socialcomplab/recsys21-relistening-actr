{
 "cells": [
  {
   "cell_type": "code",
   "execution_count": 1,
   "id": "86ab2fdd",
   "metadata": {},
   "outputs": [],
   "source": [
    "%cd -q data/actr_reco"
   ]
  },
  {
   "cell_type": "markdown",
   "id": "5eba143d",
   "metadata": {},
   "source": [
    "# Dataset analyses and preparation\n",
    "\n",
    "Input Files: \n",
    "- listening events file\n",
    "\n",
    "In-Notbook: \n",
    "- stats of dataset\n",
    "\n",
    "Output Files:\n",
    "- User-history files (1 per user)\n",
    "- User ID list"
   ]
  },
  {
   "cell_type": "code",
   "execution_count": 2,
   "id": "a63991d7",
   "metadata": {},
   "outputs": [],
   "source": [
    "import pandas as pd\n",
    "import tqdm\n",
    "import numpy as np"
   ]
  },
  {
   "cell_type": "code",
   "execution_count": 3,
   "id": "1b21cccf",
   "metadata": {},
   "outputs": [],
   "source": [
    "# Values are sorted by timestamp\n",
    "col_names = ['user', 'track', 'artist', 'album', 'gender', 'country', 'age', 'timestamp']\n",
    "reader = pd.read_csv(\"input/listening_events_2019.tsv.bz2\", compression=\"bz2\", names=col_names,\n",
    "                    quoting=3, sep=\"\\t\", header=None, parse_dates=[7], encoding='utf-8',\n",
    "                     chunksize=1_000_000\n",
    "#                      nrows=100_000  # out of 135142263\n",
    "                    )"
   ]
  },
  {
   "cell_type": "code",
   "execution_count": 4,
   "id": "3b22ddc1",
   "metadata": {},
   "outputs": [
    {
     "name": "stderr",
     "output_type": "stream",
     "text": [
      "136it [15:33,  6.86s/it]\n"
     ]
    },
    {
     "data": {
      "text/plain": [
       "(135142263, 18316)"
      ]
     },
     "execution_count": 4,
     "metadata": {},
     "output_type": "execute_result"
    }
   ],
   "source": [
    "users = set()\n",
    "lines = 0\n",
    "\n",
    "for chunk in tqdm.tqdm(reader):\n",
    "    lines += len(chunk)\n",
    "    users.update(chunk[\"user\"].unique())\n",
    "lines, len(users)"
   ]
  },
  {
   "cell_type": "markdown",
   "id": "22a3a3b4",
   "metadata": {},
   "source": [
    "## Generate user file"
   ]
  },
  {
   "cell_type": "code",
   "execution_count": 7,
   "id": "ee51d72f",
   "metadata": {},
   "outputs": [],
   "source": [
    "user_list = list(users)\n",
    "\n",
    "with open(\"users.txt\", \"w\") as f:\n",
    "    f.write(\"\\n\".join(map(str, user_list)) + \"\\n\")"
   ]
  },
  {
   "cell_type": "markdown",
   "id": "746922d6",
   "metadata": {},
   "source": [
    "# Split data to user files"
   ]
  },
  {
   "cell_type": "code",
   "execution_count": 8,
   "id": "ae6995cc",
   "metadata": {},
   "outputs": [
    {
     "name": "stderr",
     "output_type": "stream",
     "text": [
      "136it [1:52:59, 49.85s/it]\n"
     ]
    }
   ],
   "source": [
    "def generate_user_splits():\n",
    "    reader = pd.read_csv(\"input/listening_events_2019.tsv.bz2\", compression=\"bz2\", names=col_names,\n",
    "                        quoting=3, sep=\"\\t\", header=None, parse_dates=[7], encoding='utf-8',\n",
    "                         chunksize=1_000_000\n",
    "                        )\n",
    "\n",
    "    for chunk in tqdm.tqdm(reader):\n",
    "        users = chunk[\"user\"].unique()\n",
    "        for user in users:\n",
    "            user_df = chunk[chunk[\"user\"] == user]\n",
    "            user_df.to_csv(f\"user_split/listening_events_2019_{user}.tsv\", \n",
    "                        quoting=3, sep=\"\\t\", header=False, encoding='utf-8', mode=\"a\")\n",
    "            \n",
    "generate_user_splits()"
   ]
  },
  {
   "cell_type": "code",
   "execution_count": null,
   "id": "da938067",
   "metadata": {},
   "outputs": [],
   "source": []
  }
 ],
 "metadata": {
  "kernelspec": {
   "display_name": "polarice",
   "language": "python",
   "name": "polarice"
  },
  "language_info": {
   "codemirror_mode": {
    "name": "ipython",
    "version": 3
   },
   "file_extension": ".py",
   "mimetype": "text/x-python",
   "name": "python",
   "nbconvert_exporter": "python",
   "pygments_lexer": "ipython3",
   "version": "3.8.8"
  }
 },
 "nbformat": 4,
 "nbformat_minor": 5
}
