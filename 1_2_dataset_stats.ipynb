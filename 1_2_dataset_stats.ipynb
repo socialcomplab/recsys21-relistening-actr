{
 "cells": [
  {
   "cell_type": "code",
   "execution_count": 1,
   "metadata": {},
   "outputs": [],
   "source": [
    "%cd -q data/actr_reco"
   ]
  },
  {
   "cell_type": "code",
   "execution_count": 83,
   "metadata": {},
   "outputs": [],
   "source": [
    "import tqdm\n",
    "import pandas as pd\n",
    "from collections import Counter\n",
    "import matplotlib.pyplot as plt\n",
    "import seaborn as sns"
   ]
  },
  {
   "cell_type": "code",
   "execution_count": 14,
   "metadata": {},
   "outputs": [
    {
     "data": {
      "text/plain": [
       "150"
      ]
     },
     "execution_count": 14,
     "metadata": {},
     "output_type": "execute_result"
    }
   ],
   "source": [
    "with open(\"sampled.txt\", \"r\") as f:\n",
    "    users = f.readlines()\n",
    "users = users[:150]\n",
    "users = [user.strip() for user in users]\n",
    "len(users)"
   ]
  },
  {
   "cell_type": "code",
   "execution_count": 5,
   "metadata": {},
   "outputs": [
    {
     "name": "stderr",
     "output_type": "stream",
     "text": [
      "/home/mreiterhaas/miniconda3/envs/polarice/lib/python3.8/site-packages/IPython/core/interactiveshell.py:3169: DtypeWarning: Columns (1,3) have mixed types.Specify dtype option on import or set low_memory=False.\n",
      "  has_raised = await self.run_ast_nodes(code_ast.body, cell_name,\n"
     ]
    }
   ],
   "source": [
    "word2vec_file = \"../emo_mem_reco/word2vec_100.csv\"\n",
    "word2vec_df = pd.read_csv(word2vec_file, sep=\"\\t\", error_bad_lines=False, warn_bad_lines=False)\n",
    "word2vec_df[\"item\"] = list(zip(word2vec_df[\"track\"], word2vec_df[\"artist\"]))\n",
    "word2vec_df = word2vec_df.set_index(\"item\").drop(columns=[\"unique_id\", \"track_id\", \"track\", \"artist_id\", \"artist\"])\n",
    "w2v_cols = word2vec_df.columns.tolist()"
   ]
  },
  {
   "cell_type": "code",
   "execution_count": 6,
   "metadata": {},
   "outputs": [
    {
     "name": "stdout",
     "output_type": "stream",
     "text": [
      "<class 'pandas.core.frame.DataFrame'>\n",
      "Index: 2495639 entries, ('Somebody That I Used to Know', 'Gotye') to ('Venus (12\" Hellfire Mix)', 'Bananarama')\n",
      "Data columns (total 2 columns):\n",
      " #   Column       Dtype          \n",
      "---  ------       -----          \n",
      " 0   duration     int64          \n",
      " 1   duration_td  timedelta64[ns]\n",
      "dtypes: int64(1), timedelta64[ns](1)\n",
      "memory usage: 57.1+ MB\n"
     ]
    }
   ],
   "source": [
    "dur_cols = [\"track\", \"artist\", \"playcount\", \"track_listeners\", \"duration\"]\n",
    "durations = pd.read_csv(\"../emo_mem_reco/LFM-2b_track_artist_pc_ls_dur.txt\", sep=\"\\t\", names=dur_cols)\n",
    "durations[\"item\"] = list(zip(durations[\"track\"], durations[\"artist\"]))\n",
    "durations[\"duration_td\"] = pd.to_timedelta(durations[\"duration\"], unit=\"ms\")\n",
    "durations = durations.set_index(\"item\").drop(columns=[\"track\", \"artist\", \"playcount\", \"track_listeners\"])\n",
    "durations.info()"
   ]
  },
  {
   "cell_type": "code",
   "execution_count": 8,
   "metadata": {},
   "outputs": [],
   "source": [
    "def load_file(filename):\n",
    "    col_names = ['user', 'track', 'artist', 'album', 'gender', 'country', 'age', 'timestamp']\n",
    "    events = pd.read_csv(filename, names=col_names,\n",
    "                        quoting=3, sep=\"\\t\", header=None, encoding='utf-8'\n",
    "                        )\n",
    "    events[\"timestamp\"] = pd.to_datetime(events[\"timestamp\"])\n",
    "    return events"
   ]
  },
  {
   "cell_type": "code",
   "execution_count": 10,
   "metadata": {},
   "outputs": [],
   "source": [
    "def preprocess(events, use_content=True, calc_reward=True):\n",
    "    events[\"prev_timestamp\"] = events.groupby(\"user\")[\"timestamp\"].shift()\n",
    "    events[\"gap\"] = events[\"timestamp\"] - events[\"prev_timestamp\"]\n",
    "    events[\"new_session\"] = events[\"gap\"] > pd.Timedelta(\"30min\")\n",
    "    events[\"new_session_int\"] = events[\"new_session\"].astype(int)\n",
    "    events[\"session\"] = events.groupby(\"user\")[\"new_session_int\"].cumsum()\n",
    "    events[\"session_duration\"] = events.groupby([\"user\", \"session\"])[\"timestamp\"].transform(lambda x: x.iloc[-1] - x.iloc[0])\n",
    "    events[\"item\"] = list(zip(events[\"track\"], events[\"artist\"])) #, events[\"album\"]))\n",
    "    events[\"all_pos\"] = 1\n",
    "    \n",
    "    if use_content:\n",
    "        events = events.join(word2vec_df, on=\"item\", how=\"left\")\n",
    "    \n",
    "    if calc_reward:\n",
    "        events = events.join(durations, on=\"item\", how=\"left\")\n",
    "        events[\"timestamp_end\"] = events[\"timestamp\"] + events[\"duration_td\"]\n",
    "        events[\"timestamp_start_next\"] = events[\"timestamp\"].shift(-1)\n",
    "        events[\"play_duration\"] = (events[\"timestamp_start_next\"] - events[\"timestamp\"]).dt.seconds * 1000\n",
    "        events[\"gap\"] = (events[\"timestamp_start_next\"] - events[\"timestamp_end\"]).dt.seconds\n",
    "        events[\"min_duration\"] = events[[\"play_duration\", \"duration\"]].min(axis=1)\n",
    "        events[\"play_ratio\"] = events[\"min_duration\"] / events[\"duration\"]\n",
    "        \n",
    "        def reward_function(play_ratio):\n",
    "            if play_ratio >= 0.66:\n",
    "                return 1\n",
    "            elif play_ratio > 0.33 and play_ratio < 0.66:\n",
    "                return 0\n",
    "            else:  # play_ratio <= 0.33:\n",
    "                return -1\n",
    "\n",
    "        events[\"reward\"] = events[\"play_ratio\"].apply(reward_function)\n",
    "    \n",
    "    return events"
   ]
  },
  {
   "cell_type": "code",
   "execution_count": 40,
   "metadata": {},
   "outputs": [
    {
     "name": "stderr",
     "output_type": "stream",
     "text": [
      "100%|██████████| 150/150 [13:32<00:00,  5.42s/it]"
     ]
    },
    {
     "name": "stdout",
     "output_type": "stream",
     "text": [
      "len(unique_items)=355464, total_les=1686296, total_missing_content=12434, total_missing_duration=108210, total_sessions=96156\n"
     ]
    },
    {
     "name": "stderr",
     "output_type": "stream",
     "text": [
      "\n"
     ]
    }
   ],
   "source": [
    "unique_items = set()\n",
    "total_les = 0\n",
    "total_missing_content = 0\n",
    "total_missing_duration = 0\n",
    "total_sessions = 0\n",
    "\n",
    "for user in tqdm.tqdm(users):\n",
    "    filename = f\"user_split/listening_events_2019_{user}.tsv\"\n",
    "    events = load_file(filename)\n",
    "    events = preprocess(events)\n",
    "    \n",
    "    num_missing_content = len(events[events[w2v_cols].eq(0).all(axis=1)])\n",
    "    num_missing_duration = len(events[events[\"duration\"] == 0])\n",
    "    \n",
    "    unique_items.update(events[\"item\"].unique())\n",
    "    total_les += len(events)\n",
    "    total_missing_content += num_missing_content\n",
    "    total_missing_duration += num_missing_duration\n",
    "    total_sessions += events[\"session\"].nunique()\n",
    "    \n",
    "print(f\"{len(unique_items)=}, {total_les=}, {total_missing_content=}, {total_missing_duration=}, {total_sessions=}\")"
   ]
  },
  {
   "cell_type": "code",
   "execution_count": 44,
   "metadata": {},
   "outputs": [
    {
     "name": "stdout",
     "output_type": "stream",
     "text": [
      "les_per_track=4.743929061733397, les_per_user=11241.973333333333, les_per_session=17.53708556928325, missing_content_percent=0.007373557192806008, missing_duration_percent=0.06417022871429452, potential_density=0.03162619374488931\n"
     ]
    }
   ],
   "source": [
    "les_per_track = total_les / len(unique_items)\n",
    "les_per_user = total_les / len(users)\n",
    "les_per_session = total_les / total_sessions\n",
    "missing_content_percent = total_missing_content / total_les\n",
    "missing_duration_percent = total_missing_duration / total_les\n",
    "potential_density = total_les / (len(users) * len(unique_items))\n",
    "\n",
    "print(f\"{les_per_track=}, {les_per_user=}, {les_per_session=}, {missing_content_percent=}, {missing_duration_percent=}, {potential_density=}\")"
   ]
  },
  {
   "cell_type": "code",
   "execution_count": 45,
   "metadata": {},
   "outputs": [],
   "source": [
    "with open(\"unique_items.txt\", \"w\") as f:\n",
    "    f.write(\"\\n\".join(map(str, unique_items)) + \"\\n\")"
   ]
  },
  {
   "cell_type": "code",
   "execution_count": 74,
   "metadata": {},
   "outputs": [
    {
     "name": "stderr",
     "output_type": "stream",
     "text": [
      "100%|██████████| 150/150 [12:52<00:00,  5.15s/it]\n"
     ]
    },
    {
     "data": {
      "text/plain": [
       "[(('The Song of the Stones', 'Trobar de Morte'), 1776),\n",
       " (('눈의 꽃', '박효신'), 980),\n",
       " (('bad guy', 'Billie Eilish'), 870),\n",
       " (('bury a friend', 'Billie Eilish'), 694),\n",
       " (('Goodbye', 'Park Hyo Shin'), 642)]"
      ]
     },
     "execution_count": 74,
     "metadata": {},
     "output_type": "execute_result"
    }
   ],
   "source": [
    "item_appearences = Counter(dict.fromkeys(unique_items, 0))\n",
    "for user in tqdm.tqdm(users):\n",
    "    filename = f\"user_split/listening_events_2019_{user}.tsv\"\n",
    "    events = load_file(filename)\n",
    "    events = preprocess(events)\n",
    "    item_appearences.update(dict(events[\"item\"].value_counts()))\n",
    "item_appearences.most_common(5)"
   ]
  },
  {
   "cell_type": "code",
   "execution_count": 95,
   "metadata": {},
   "outputs": [
    {
     "name": "stdout",
     "output_type": "stream",
     "text": [
      "single_LE_items=158238, LEs_top_item=1776\n"
     ]
    }
   ],
   "source": [
    "single_LE_items = len([val for val in item_appearences.values() if val == 1])\n",
    "LEs_top_item = item_appearences.most_common(1)[0][1]\n",
    "print(f\"{single_LE_items=}, {LEs_top_item=}\")"
   ]
  },
  {
   "cell_type": "code",
   "execution_count": 89,
   "metadata": {},
   "outputs": [
    {
     "data": {
      "image/png": "[encoded data removed]",
      "text/plain": [
       "<Figure size 640x480 with 1 Axes>"
      ]
     },
     "metadata": {},
     "output_type": "display_data"
    }
   ],
   "source": [
    "plt.hist(item_appearences.values(), bins=100)\n",
    "plt.yscale('log')\n",
    "plt.show()"
   ]
  },
  {
   "cell_type": "code",
   "execution_count": 94,
   "metadata": {},
   "outputs": [
    {
     "name": "stdout",
     "output_type": "stream",
     "text": [
      "items_with_above_average_LEs=72158, LEs_of_above_average_items=1204546\n"
     ]
    }
   ],
   "source": [
    "items_with_above_average_LEs = len([val for val in item_appearences.values() if val >= 5])\n",
    "LEs_of_above_average_items = sum([val for val in item_appearences.values() if val >= 5])\n",
    "\n",
    "print(f\"{items_with_above_average_LEs=}, {LEs_of_above_average_items=}\")"
   ]
  },
  {
   "cell_type": "code",
   "execution_count": 106,
   "metadata": {},
   "outputs": [
    {
     "name": "stderr",
     "output_type": "stream",
     "text": [
      "100%|██████████| 150/150 [13:15<00:00,  5.31s/it]"
     ]
    },
    {
     "name": "stdout",
     "output_type": "stream",
     "text": [
      "overall_top_relistened=1765, overall_num_relistened=36334, overall_percentage_relistend=0.9553686664723761\n"
     ]
    },
    {
     "name": "stderr",
     "output_type": "stream",
     "text": [
      "\n"
     ]
    }
   ],
   "source": [
    "# Evaluate relistening on per user basis\n",
    "overall_top_relistened = 0\n",
    "overall_num_relistened = 0\n",
    "overall_percentage_relistend = 0\n",
    "\n",
    "all_top_relistened = []\n",
    "all_num_relistened = []\n",
    "all_percentage_relistend = []\n",
    "\n",
    "for user in tqdm.tqdm(users):\n",
    "    filename = f\"user_split/listening_events_2019_{user}.tsv\"\n",
    "    events = load_file(filename)\n",
    "    events = preprocess(events)\n",
    "    \n",
    "    item_listening = events[\"item\"].value_counts()\n",
    "    item_relistening = item_listening[item_listening > 1] - 1\n",
    "    \n",
    "    top_relistened = item_relistening[0]\n",
    "    num_relistened = item_relistening.sum()\n",
    "    percentage_relistend = num_relistened / len(events)\n",
    "    \n",
    "    all_top_relistened.append(top_relistened)\n",
    "    all_num_relistened.append(num_relistened)\n",
    "    all_percentage_relistend.append(percentage_relistend)\n",
    "    \n",
    "    if top_relistened > overall_top_relistened:\n",
    "        overall_top_relistened = top_relistened\n",
    "    if num_relistened > overall_num_relistened:\n",
    "        overall_num_relistened = num_relistened\n",
    "    if percentage_relistend > overall_percentage_relistend:\n",
    "        overall_percentage_relistend = percentage_relistend\n",
    "        \n",
    "print(f\"{overall_top_relistened=}, {overall_num_relistened=}, {overall_percentage_relistend=}\")"
   ]
  },
  {
   "cell_type": "code",
   "execution_count": 107,
   "metadata": {},
   "outputs": [
    {
     "data": {
      "image/png": "[encoded data removed]",
      "text/plain": [
       "<Figure size 640x480 with 1 Axes>"
      ]
     },
     "metadata": {},
     "output_type": "display_data"
    }
   ],
   "source": [
    "plt.hist(all_top_relistened, bins=100)\n",
    "# plt.yscale('log')\n",
    "plt.show()"
   ]
  },
  {
   "cell_type": "code",
   "execution_count": 108,
   "metadata": {},
   "outputs": [
    {
     "data": {
      "image/png": "[encoded data removed]",
      "text/plain": [
       "<Figure size 640x480 with 1 Axes>"
      ]
     },
     "metadata": {},
     "output_type": "display_data"
    }
   ],
   "source": [
    "plt.hist(all_num_relistened, bins=100)\n",
    "# plt.yscale('log')\n",
    "plt.show()"
   ]
  },
  {
   "cell_type": "code",
   "execution_count": 109,
   "metadata": {},
   "outputs": [
    {
     "data": {
      "image/png": "[encoded data removed]",
      "text/plain": [
       "<Figure size 640x480 with 1 Axes>"
      ]
     },
     "metadata": {},
     "output_type": "display_data"
    }
   ],
   "source": [
    "plt.hist(all_percentage_relistend, bins=100)\n",
    "# plt.yscale('log')\n",
    "plt.show()"
   ]
  },
  {
   "cell_type": "code",
   "execution_count": 120,
   "metadata": {},
   "outputs": [
    {
     "name": "stdout",
     "output_type": "stream",
     "text": [
      "avg_top_relistened=111.28666666666666, avg_num_relistened=7982.513333333333, avg_percentage_relistend=0.6639343652628651\n"
     ]
    }
   ],
   "source": [
    "avg_top_relistened = sum(all_top_relistened)/len(all_top_relistened)\n",
    "avg_num_relistened = sum(all_num_relistened)/len(all_num_relistened)\n",
    "avg_percentage_relistend = sum(all_percentage_relistend)/len(all_percentage_relistend)\n",
    "print(f\"{avg_top_relistened=}, {avg_num_relistened=}, {avg_percentage_relistend=}\")"
   ]
  },
  {
   "cell_type": "code",
   "execution_count": 119,
   "metadata": {},
   "outputs": [
    {
     "data": {
      "text/plain": [
       "[(89, 3657, 0.8422385997236297),\n",
       " (313, 5704, 0.6228434155929242),\n",
       " (37, 8111, 0.7717411988582302),\n",
       " (31, 9274, 0.5766695684616341),\n",
       " (68, 1880, 0.5770411295273173)]"
      ]
     },
     "execution_count": 119,
     "metadata": {},
     "output_type": "execute_result"
    }
   ],
   "source": [
    "list(zip(all_top_relistened, all_num_relistened, all_percentage_relistend))[:5]"
   ]
  },
  {
   "cell_type": "code",
   "execution_count": null,
   "metadata": {},
   "outputs": [],
   "source": []
  }
 ],
 "metadata": {
  "kernelspec": {
   "display_name": "polarice",
   "language": "python",
   "name": "polarice"
  },
  "language_info": {
   "codemirror_mode": {
    "name": "ipython",
    "version": 3
   },
   "file_extension": ".py",
   "mimetype": "text/x-python",
   "name": "python",
   "nbconvert_exporter": "python",
   "pygments_lexer": "ipython3",
   "version": "3.8.8"
  }
 },
 "nbformat": 4,
 "nbformat_minor": 4
}
